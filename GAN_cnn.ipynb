{
 "cells": [
  {
   "cell_type": "code",
   "execution_count": 65,
   "metadata": {},
   "outputs": [
    {
     "name": "stdout",
     "output_type": "stream",
     "text": [
      "GPU not available, CPU used\n"
     ]
    }
   ],
   "source": [
    "import numpy as np\n",
    "\n",
    "import torch\n",
    "import torch.nn as nn\n",
    "import torch.nn.functional as F\n",
    "import torch.optim as optim\n",
    "from torch.utils.data import Dataset\n",
    "from torchvision import datasets\n",
    "import torchvision.transforms as T\n",
    "from torchvision.utils import make_grid, save_image\n",
    "\n",
    "import time\n",
    "from PIL import Image\n",
    "\n",
    "from tqdm import tqdm\n",
    "from matplotlib import pyplot as plt\n",
    "%matplotlib inline\n",
    "\n",
    "is_cuda = torch.cuda.is_available()\n",
    "\n",
    "# If we have a GPU available, we'll set our device to GPU. We'll use this device variable later in our code.\n",
    "if is_cuda:\n",
    "    device = torch.device(\"cuda\")\n",
    "    print(\"GPU is available\")\n",
    "else:\n",
    "    device = torch.device(\"cpu\")\n",
    "    print(\"GPU not available, CPU used\")"
   ]
  },
  {
   "cell_type": "code",
   "execution_count": 66,
   "metadata": {},
   "outputs": [],
   "source": [
    "train_data = datasets.MNIST(\n",
    "    root=\"data\",\n",
    "    train=True,\n",
    "    download=True,\n",
    "    transform=T.Compose(\n",
    "        [T.Resize(32), T.ToTensor()]\n",
    "    )\n",
    ")"
   ]
  },
  {
   "cell_type": "code",
   "execution_count": 67,
   "metadata": {},
   "outputs": [
    {
     "data": {
      "text/plain": [
       "torch.Size([1, 32, 32])"
      ]
     },
     "execution_count": 67,
     "metadata": {},
     "output_type": "execute_result"
    }
   ],
   "source": [
    "train_data[0][0].shape"
   ]
  },
  {
   "cell_type": "code",
   "execution_count": 68,
   "metadata": {},
   "outputs": [],
   "source": [
    "to_pil_image = T.ToPILImage()"
   ]
  },
  {
   "cell_type": "code",
   "execution_count": null,
   "metadata": {},
   "outputs": [],
   "source": []
  },
  {
   "cell_type": "markdown",
   "metadata": {},
   "source": [
    "# GAN"
   ]
  },
  {
   "cell_type": "code",
   "execution_count": 69,
   "metadata": {},
   "outputs": [],
   "source": [
    "class Generator(nn.Module):\n",
    "    def __init__(self, generator_input_size=128):\n",
    "        super().__init__()\n",
    "        self.conv1 = nn.ConvTranspose2d(generator_input_size, 64, kernel_size=4, stride=1, padding=0, bias=False)\n",
    "        self.norm1 = nn.BatchNorm2d(64)\n",
    "\n",
    "        self.conv2 = nn.ConvTranspose2d(64, 32, kernel_size=4, stride=2, padding=1, bias=False)\n",
    "        self.norm2 = nn.BatchNorm2d(32)\n",
    "\n",
    "        self.conv3 = nn.ConvTranspose2d(32, 16, kernel_size=4, stride=2, padding=1, bias=False)\n",
    "        self.norm3 = nn.BatchNorm2d(16)\n",
    "\n",
    "        self.conv4 = nn.ConvTranspose2d(16, 1, kernel_size=4, stride=2, padding=1, bias=False)\n",
    "\n",
    "    def forward(self, x):\n",
    "        x = F.relu(self.norm1(self.conv1(x)))\n",
    "        x = F.relu(self.norm2(self.conv2(x)))\n",
    "        x = F.relu(self.norm3(self.conv3(x)))\n",
    "        x = F.sigmoid(self.conv4(x))\n",
    "        return x"
   ]
  },
  {
   "cell_type": "code",
   "execution_count": 70,
   "metadata": {},
   "outputs": [],
   "source": [
    "class Expert(nn.Module):\n",
    "    def __init__(self, input_size):\n",
    "        super().__init__()\n",
    "        self.conv1 = nn.Conv2d(1, 6, 5)\n",
    "        self.pool = nn.MaxPool2d(2, 2)\n",
    "        self.conv2 = nn.Conv2d(6, 16, 5)\n",
    "        self.fc1 = nn.Linear(16 * 5 * 5, 100)\n",
    "        self.fc2 = nn.Linear(100, 1)\n",
    "\n",
    "    def forward(self, x):\n",
    "        x = self.pool(F.relu(self.conv1(x)))\n",
    "        x = self.pool(F.relu(self.conv2(x)))\n",
    "        x = torch.flatten(x, 1) # flatten all dimensions except batch\n",
    "        x = F.relu(self.fc1(x))\n",
    "        x = F.sigmoid(self.fc2(x))\n",
    "        return x\n",
    "    "
   ]
  },
  {
   "cell_type": "code",
   "execution_count": 80,
   "metadata": {},
   "outputs": [],
   "source": [
    "def train_expert(generator_net, expert_net, real_inputs, optimizer, batch_size, input_size = 128):\n",
    "    # zero the parameter gradients\n",
    "    optimizer.zero_grad()\n",
    "\n",
    "    # Real input\n",
    "    real_labels = torch.ones(batch_size, 1, device=device)\n",
    "\n",
    "    # Generated input\n",
    "    generator_inputs = torch.randn(batch_size, input_size, 1, 1, device=device)\n",
    "    generated_inputs = generator_net(generator_inputs)\n",
    "    generated_labels = torch.zeros(batch_size, 1, device=device)\n",
    "    \n",
    "    # Forward\n",
    "    generated_outputs = expert_net(generated_inputs)\n",
    "    generated_loss = F.binary_cross_entropy(generated_outputs, generated_labels)\n",
    "    real_outputs = expert_net(real_inputs)\n",
    "    real_loss = F.binary_cross_entropy(real_outputs, real_labels)\n",
    "\n",
    "    # Backward\n",
    "    generated_loss.backward()\n",
    "    real_loss.backward()\n",
    "    optimizer.step()\n",
    "    \n",
    "    return generated_loss + real_loss\n",
    "\n",
    "def train_generator(generator_net, expert_net, optimizer, batch_size, input_size = 128):\n",
    "    optimizer.zero_grad()\n",
    "    \n",
    "    # Fake input\n",
    "    generator_inputs = torch.randn(batch_size, input_size, 1, 1, device=device)\n",
    "    generated_inputs = generator_net(generator_inputs)\n",
    "    generated_labels = torch.ones(batch_size, 1, device=device)\n",
    "\n",
    "    generated_outputs = expert_net(generated_inputs)\n",
    "    loss = F.binary_cross_entropy(generated_outputs, generated_labels)\n",
    "     \n",
    "    loss.backward()\n",
    "    optimizer.step()\n",
    "    \n",
    "    return loss\n",
    "\n",
    "def train(generator_net, expert_net, train_data, batch_size=10, learning_rate=0.0001, epochs=10):\n",
    "    criterion = nn.BCELoss()\n",
    "    expert_optimizer = optim.Adam(expert_net.parameters(), lr=learning_rate)\n",
    "    generator_optimizer = optim.Adam(generator_net.parameters(), lr=learning_rate)\n",
    "\n",
    "    input_size = train_data[0][0].shape[0]\n",
    "    train_loader = torch.utils.data.DataLoader(train_data, batch_size=batch_size, shuffle=True)\n",
    "\n",
    "    running_expert_loss = []\n",
    "    running_generator_loss = []\n",
    "\n",
    "\n",
    "    for epoch in range(epochs):\n",
    "        print(\"Epoch:\" , epoch+1)\n",
    "\n",
    "        for bi, data in tqdm(enumerate(train_loader), total=int(len(train_data)/train_loader.batch_size)):\n",
    "            inputs, _ = data\n",
    "            inputs = inputs.to(device)\n",
    "\n",
    "            expert_loss = train_expert(\n",
    "                generator_net,\n",
    "                expert_net,\n",
    "                inputs,\n",
    "                expert_optimizer,\n",
    "                batch_size\n",
    "            )\n",
    "            running_expert_loss.append(expert_loss.item())\n",
    "            \n",
    "            generator_loss = train_generator(\n",
    "                generator_net,\n",
    "                expert_net,\n",
    "                generator_optimizer,\n",
    "                batch_size\n",
    "            )\n",
    "            running_generator_loss.append(generator_loss.item())\n",
    "        \n",
    "        \n",
    "        generator_inputs = torch.randn(64, 128, 1, 1, device=device)\n",
    "        generated_img = generator_net(generator_inputs)\n",
    "        generated_img = make_grid(generated_img)\n",
    "\n",
    "        #SAVE IMAGE\n",
    "        im = Image.fromarray(np.array(to_pil_image(generated_img)))\n",
    "        im.save(f\"Images_output/gan_cnn/epoch_{epoch}.jpeg\")\n",
    "\n",
    "        print(f'Loss: {np.mean(running_generator_loss[-len(train_data):])}, {np.mean(running_expert_loss[-len(train_data):])}')\n",
    "\n",
    "    return running_expert_loss, running_generator_loss\n",
    "\n"
   ]
  },
  {
   "cell_type": "code",
   "execution_count": 81,
   "metadata": {},
   "outputs": [
    {
     "data": {
      "text/plain": [
       "Generator(\n",
       "  (conv1): ConvTranspose2d(128, 64, kernel_size=(4, 4), stride=(1, 1), bias=False)\n",
       "  (norm1): BatchNorm2d(64, eps=1e-05, momentum=0.1, affine=True, track_running_stats=True)\n",
       "  (conv2): ConvTranspose2d(64, 32, kernel_size=(4, 4), stride=(2, 2), padding=(1, 1), bias=False)\n",
       "  (norm2): BatchNorm2d(32, eps=1e-05, momentum=0.1, affine=True, track_running_stats=True)\n",
       "  (conv3): ConvTranspose2d(32, 16, kernel_size=(4, 4), stride=(2, 2), padding=(1, 1), bias=False)\n",
       "  (norm3): BatchNorm2d(16, eps=1e-05, momentum=0.1, affine=True, track_running_stats=True)\n",
       "  (conv4): ConvTranspose2d(16, 1, kernel_size=(4, 4), stride=(2, 2), padding=(1, 1), bias=False)\n",
       ")"
      ]
     },
     "execution_count": 81,
     "metadata": {},
     "output_type": "execute_result"
    }
   ],
   "source": [
    "# Initialise nets\n",
    "input_size = train_data[0][0].shape[0]\n",
    "expert_net = Expert(input_size)\n",
    "expert_net.to(device)\n",
    "\n",
    "generator_net = Generator()\n",
    "generator_net.to(device)\n"
   ]
  },
  {
   "cell_type": "code",
   "execution_count": null,
   "metadata": {},
   "outputs": [
    {
     "name": "stderr",
     "output_type": "stream",
     "text": [
      "  0%|          | 3/6000 [00:00<03:28, 28.70it/s]"
     ]
    },
    {
     "name": "stdout",
     "output_type": "stream",
     "text": [
      "Epoch: 1\n"
     ]
    },
    {
     "name": "stderr",
     "output_type": "stream",
     "text": [
      "100%|██████████| 6000/6000 [02:10<00:00, 45.87it/s]\n",
      "  0%|          | 5/6000 [00:00<02:12, 45.20it/s]"
     ]
    },
    {
     "name": "stdout",
     "output_type": "stream",
     "text": [
      "Loss: 1.5186277880867323, 0.8199270059963067\n",
      "Epoch: 2\n"
     ]
    },
    {
     "name": "stderr",
     "output_type": "stream",
     "text": [
      "100%|██████████| 6000/6000 [02:11<00:00, 45.49it/s]\n",
      "  0%|          | 5/6000 [00:00<02:12, 45.32it/s]"
     ]
    },
    {
     "name": "stdout",
     "output_type": "stream",
     "text": [
      "Loss: 1.327688998480638, 0.9210689702481032\n",
      "Epoch: 3\n"
     ]
    },
    {
     "name": "stderr",
     "output_type": "stream",
     "text": [
      "100%|██████████| 6000/6000 [02:11<00:00, 45.62it/s]\n",
      "  0%|          | 5/6000 [00:00<02:12, 45.41it/s]"
     ]
    },
    {
     "name": "stdout",
     "output_type": "stream",
     "text": [
      "Loss: 1.3210021334638198, 0.9121558480328984\n",
      "Epoch: 4\n"
     ]
    },
    {
     "name": "stderr",
     "output_type": "stream",
     "text": [
      "100%|██████████| 6000/6000 [02:10<00:00, 45.98it/s]\n",
      "  0%|          | 5/6000 [00:00<02:11, 45.59it/s]"
     ]
    },
    {
     "name": "stdout",
     "output_type": "stream",
     "text": [
      "Loss: 1.3775488060228527, 0.8778246541370948\n",
      "Epoch: 5\n"
     ]
    },
    {
     "name": "stderr",
     "output_type": "stream",
     "text": [
      "100%|██████████| 6000/6000 [02:10<00:00, 45.93it/s]\n",
      "  0%|          | 5/6000 [00:00<02:11, 45.56it/s]"
     ]
    },
    {
     "name": "stdout",
     "output_type": "stream",
     "text": [
      "Loss: 1.4367798529475928, 0.8482339938819409\n",
      "Epoch: 6\n"
     ]
    },
    {
     "name": "stderr",
     "output_type": "stream",
     "text": [
      "100%|██████████| 6000/6000 [02:10<00:00, 45.97it/s]\n",
      "  0%|          | 5/6000 [00:00<02:11, 45.54it/s]"
     ]
    },
    {
     "name": "stdout",
     "output_type": "stream",
     "text": [
      "Loss: 1.4877793738668164, 0.8256258058481746\n",
      "Epoch: 7\n"
     ]
    },
    {
     "name": "stderr",
     "output_type": "stream",
     "text": [
      "100%|██████████| 6000/6000 [02:10<00:00, 45.91it/s]\n",
      "  0%|          | 5/6000 [00:00<02:11, 45.55it/s]"
     ]
    },
    {
     "name": "stdout",
     "output_type": "stream",
     "text": [
      "Loss: 1.536926356644148, 0.8065815251150301\n",
      "Epoch: 8\n"
     ]
    },
    {
     "name": "stderr",
     "output_type": "stream",
     "text": [
      "100%|██████████| 6000/6000 [02:10<00:00, 46.03it/s]\n",
      "  0%|          | 5/6000 [00:00<02:11, 45.58it/s]"
     ]
    },
    {
     "name": "stdout",
     "output_type": "stream",
     "text": [
      "Loss: 1.5814116796981543, 0.7895368077956761\n",
      "Epoch: 9\n"
     ]
    },
    {
     "name": "stderr",
     "output_type": "stream",
     "text": [
      "100%|██████████| 6000/6000 [02:09<00:00, 46.22it/s]\n",
      "  0%|          | 5/6000 [00:00<02:11, 45.75it/s]"
     ]
    },
    {
     "name": "stdout",
     "output_type": "stream",
     "text": [
      "Loss: 1.6220691522641315, 0.7746086040702131\n",
      "Epoch: 10\n"
     ]
    },
    {
     "name": "stderr",
     "output_type": "stream",
     "text": [
      "100%|██████████| 6000/6000 [02:09<00:00, 46.20it/s]\n",
      "  0%|          | 5/6000 [00:00<02:11, 45.63it/s]"
     ]
    },
    {
     "name": "stdout",
     "output_type": "stream",
     "text": [
      "Loss: 1.660046896780034, 0.7618772687268753\n",
      "Epoch: 11\n"
     ]
    },
    {
     "name": "stderr",
     "output_type": "stream",
     "text": [
      "100%|██████████| 6000/6000 [02:09<00:00, 46.22it/s]\n",
      "  0%|          | 5/6000 [00:00<02:11, 45.76it/s]"
     ]
    },
    {
     "name": "stdout",
     "output_type": "stream",
     "text": [
      "Loss: 1.711702492929995, 0.7440541134571036\n",
      "Epoch: 12\n"
     ]
    },
    {
     "name": "stderr",
     "output_type": "stream",
     "text": [
      "100%|██████████| 6000/6000 [02:09<00:00, 46.24it/s]\n",
      "  0%|          | 5/6000 [00:00<02:10, 45.92it/s]"
     ]
    },
    {
     "name": "stdout",
     "output_type": "stream",
     "text": [
      "Loss: 1.8051093085313836, 0.7057170408266286\n",
      "Epoch: 13\n"
     ]
    },
    {
     "name": "stderr",
     "output_type": "stream",
     "text": [
      "100%|██████████| 6000/6000 [02:09<00:00, 46.23it/s]\n",
      "  0%|          | 5/6000 [00:00<02:11, 45.58it/s]"
     ]
    },
    {
     "name": "stdout",
     "output_type": "stream",
     "text": [
      "Loss: 1.8835928198466698, 0.6797418025734524\n",
      "Epoch: 14\n"
     ]
    },
    {
     "name": "stderr",
     "output_type": "stream",
     "text": [
      "100%|██████████| 6000/6000 [02:09<00:00, 46.21it/s]\n",
      "  0%|          | 5/6000 [00:00<02:10, 45.82it/s]"
     ]
    },
    {
     "name": "stdout",
     "output_type": "stream",
     "text": [
      "Loss: 1.9388792903418341, 0.665430044542253\n",
      "Epoch: 15\n"
     ]
    },
    {
     "name": "stderr",
     "output_type": "stream",
     "text": [
      "100%|██████████| 6000/6000 [02:09<00:00, 46.22it/s]\n",
      "  0%|          | 5/6000 [00:00<02:10, 45.81it/s]"
     ]
    },
    {
     "name": "stdout",
     "output_type": "stream",
     "text": [
      "Loss: 1.9843620200152199, 0.654431261248514\n",
      "Epoch: 16\n"
     ]
    },
    {
     "name": "stderr",
     "output_type": "stream",
     "text": [
      "100%|██████████| 6000/6000 [02:09<00:00, 46.19it/s]\n",
      "  0%|          | 5/6000 [00:00<02:10, 45.78it/s]"
     ]
    },
    {
     "name": "stdout",
     "output_type": "stream",
     "text": [
      "Loss: 2.0255756857429943, 0.6438863565225155\n",
      "Epoch: 17\n"
     ]
    },
    {
     "name": "stderr",
     "output_type": "stream",
     "text": [
      "100%|██████████| 6000/6000 [02:09<00:00, 46.19it/s]\n",
      "  0%|          | 5/6000 [00:00<02:11, 45.65it/s]"
     ]
    },
    {
     "name": "stdout",
     "output_type": "stream",
     "text": [
      "Loss: 2.060519488309324, 0.6345530581720173\n",
      "Epoch: 18\n"
     ]
    },
    {
     "name": "stderr",
     "output_type": "stream",
     "text": [
      "100%|██████████| 6000/6000 [02:09<00:00, 46.22it/s]\n",
      "  0%|          | 5/6000 [00:00<02:11, 45.51it/s]"
     ]
    },
    {
     "name": "stdout",
     "output_type": "stream",
     "text": [
      "Loss: 2.0919266521429023, 0.6272739111666878\n",
      "Epoch: 19\n"
     ]
    },
    {
     "name": "stderr",
     "output_type": "stream",
     "text": [
      "100%|██████████| 6000/6000 [02:09<00:00, 46.23it/s]\n",
      "  0%|          | 5/6000 [00:00<02:11, 45.49it/s]"
     ]
    },
    {
     "name": "stdout",
     "output_type": "stream",
     "text": [
      "Loss: 2.1165632827594876, 0.6204715533643961\n",
      "Epoch: 20\n"
     ]
    },
    {
     "name": "stderr",
     "output_type": "stream",
     "text": [
      "100%|██████████| 6000/6000 [02:10<00:00, 45.89it/s]\n",
      "  0%|          | 5/6000 [00:00<02:13, 45.01it/s]"
     ]
    },
    {
     "name": "stdout",
     "output_type": "stream",
     "text": [
      "Loss: 2.1367582764074204, 0.6140973612481108\n",
      "Epoch: 21\n"
     ]
    },
    {
     "name": "stderr",
     "output_type": "stream",
     "text": [
      " 73%|███████▎  | 4369/6000 [01:37<00:35, 45.46it/s]"
     ]
    }
   ],
   "source": [
    "# Train\n",
    "loss = train(generator_net, expert_net, train_data, epochs=50)"
   ]
  },
  {
   "cell_type": "code",
   "execution_count": 61,
   "metadata": {
    "collapsed": true,
    "jupyter": {
     "outputs_hidden": true
    }
   },
   "outputs": [
    {
     "data": {
      "text/plain": [
       "<matplotlib.image.AxesImage at 0x7fce932b6ca0>"
      ]
     },
     "execution_count": 61,
     "metadata": {},
     "output_type": "execute_result"
    },
    {
     "data": {
      "image/png": "[encoded data removed]",
      "text/plain": [
       "<Figure size 432x288 with 1 Axes>"
      ]
     },
     "metadata": {
      "needs_background": "light"
     },
     "output_type": "display_data"
    }
   ],
   "source": [
    "# Test image\n",
    "generator_inputs = torch.randn(64, 128, 1, 1, device=device)\n",
    "generated_inputs = generator_net(generator_inputs)\n",
    "generated_img = make_grid(generated_inputs)\n",
    "plt.imshow(generated_inputs.view(8,8,32,32).detach().numpy())"
   ]
  },
  {
   "cell_type": "code",
   "execution_count": null,
   "metadata": {},
   "outputs": [],
   "source": []
  }
 ],
 "metadata": {
  "kernelspec": {
   "display_name": "Python 3",
   "language": "python",
   "name": "python3"
  },
  "language_info": {
   "codemirror_mode": {
    "name": "ipython",
    "version": 3
   },
   "file_extension": ".py",
   "mimetype": "text/x-python",
   "name": "python",
   "nbconvert_exporter": "python",
   "pygments_lexer": "ipython3",
   "version": "3.8.5"
  }
 },
 "nbformat": 4,
 "nbformat_minor": 4
}
