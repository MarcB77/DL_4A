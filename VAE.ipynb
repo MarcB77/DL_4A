{
 "cells": [
  {
   "cell_type": "code",
   "execution_count": 182,
   "metadata": {},
   "outputs": [
    {
     "name": "stdout",
     "output_type": "stream",
     "text": [
      "GPU not available, CPU used\n"
     ]
    }
   ],
   "source": [
    "import numpy as np\n",
    "\n",
    "import torch\n",
    "import torch.nn as nn\n",
    "import torch.nn.functional as F\n",
    "import torch.optim as optim\n",
    "from torch.utils.data import Dataset\n",
    "from torchvision import datasets\n",
    "import torchvision.transforms as T\n",
    "from torchvision.utils import make_grid, save_image\n",
    "\n",
    "import time\n",
    "from PIL import Image\n",
    "\n",
    "from tqdm import tqdm\n",
    "from matplotlib import pyplot as plt\n",
    "%matplotlib inline\n",
    "\n",
    "is_cuda = torch.cuda.is_available()\n",
    "\n",
    "# If we have a GPU available, we'll set our device to GPU. We'll use this device variable later in our code.\n",
    "if is_cuda:\n",
    "    device = torch.device(\"cuda\")\n",
    "    print(\"GPU is available\")\n",
    "else:\n",
    "    device = torch.device(\"cpu\")\n",
    "    print(\"GPU not available, CPU used\")\n",
    "\n",
    "to_pil_image = T.ToPILImage()"
   ]
  },
  {
   "cell_type": "code",
   "execution_count": 228,
   "metadata": {},
   "outputs": [],
   "source": [
    "mnist_train = datasets.MNIST(\n",
    "    root='data',\n",
    "    train=True,\n",
    "    download=True,\n",
    "    transform=T.Compose([T.Resize(32), T.ToTensor(), T.Lambda(lambda x: torch.flatten(x))])\n",
    ")"
   ]
  },
  {
   "cell_type": "code",
   "execution_count": 229,
   "metadata": {},
   "outputs": [
    {
     "name": "stdout",
     "output_type": "stream",
     "text": [
      "Using downloaded and verified file: data/train_32x32.mat\n"
     ]
    }
   ],
   "source": [
    "svhn_train = datasets.SVHN(\n",
    "    root='data',\n",
    "    download=True,\n",
    "    transform=T.Compose([ T.ToTensor(), T.Lambda(lambda x: torch.flatten(x))])\n",
    ")"
   ]
  },
  {
   "cell_type": "code",
   "execution_count": null,
   "metadata": {},
   "outputs": [],
   "source": []
  },
  {
   "cell_type": "markdown",
   "metadata": {},
   "source": [
    "# VAE"
   ]
  },
  {
   "cell_type": "code",
   "execution_count": 271,
   "metadata": {},
   "outputs": [],
   "source": [
    "class Encoder(nn.Module):\n",
    "    def __init__(self, input_size, hidden_size = 300, latent_size = 100):\n",
    "        super(Encoder, self).__init__()\n",
    "        \n",
    "        self.encoder = nn.Sequential(\n",
    "            nn.Linear(input_size, hidden_size),\n",
    "            nn.LeakyReLU(),\n",
    "            nn.Linear(hidden_size, hidden_size),\n",
    "            nn.LeakyReLU(),\n",
    "            nn.Linear(hidden_size, 2 * latent_size)\n",
    "        )\n",
    "    \n",
    "    def sample(self, mu, sigma):\n",
    "        eps = torch.randn_like(sigma)\n",
    "        return mu + sigma * eps\n",
    "        \n",
    "    def forward(self, x):\n",
    "        h = self.encoder(x)\n",
    "\n",
    "        mu, log_var = torch.chunk(h, 2, dim=1)\n",
    "        sigma = torch.exp(0.5*log_var) \n",
    "        z = self.sample(mu, sigma)\n",
    "        \n",
    "        return z, mu, sigma\n",
    "\n",
    "class Decoder(nn.Module):\n",
    "    def __init__(self, output_size, hidden_size = 300, latent_size = 100):\n",
    "        super(Decoder, self).__init__()\n",
    "        \n",
    "        self.decoder = nn.Sequential(\n",
    "            nn.Linear(latent_size, hidden_size),\n",
    "            nn.LeakyReLU(),\n",
    "            nn.Linear(hidden_size, hidden_size),\n",
    "            nn.LeakyReLU(),\n",
    "            nn.Linear(hidden_size, output_size),\n",
    "            nn.Sigmoid()\n",
    "        )\n",
    "        \n",
    "    def forward(self, x):\n",
    "        return self.decoder(x) \n",
    "    \n",
    "class GaussianPrior(nn.Module):\n",
    "    def __init__(self, latent_size=100):\n",
    "        super(GaussianPrior, self).__init__()\n",
    "        self.latent_size = latent_size\n",
    "\n",
    "    def sample(self, batch_size):\n",
    "        z = torch.randn((batch_size, self.latent_size))\n",
    "        return z\n",
    "\n",
    "    def log_prob(self, z):\n",
    "        PI = torch.from_numpy(np.asarray(np.pi)).to(device)\n",
    "        return -0.5 * torch.log(2. * PI) - 0.5 * z**2.\n",
    "                \n",
    "\n",
    "class VAE(nn.Module):\n",
    "    def __init__(self, input_size):\n",
    "        super(VAE, self).__init__()\n",
    "        self.encoder = Encoder(input_size)\n",
    "        self.decoder = Decoder(input_size)\n",
    "        \n",
    "    def forward(self, x):\n",
    "        z, mu, sigma = self.encoder(x)\n",
    "                \n",
    "        return self.decoder(z), z, mu, sigma\n",
    "    \n",
    "    \n",
    "class ELBO():\n",
    "    def __init__(self, prior):\n",
    "        self.prior = prior\n",
    "        self.reconstruction_error = nn.BCELoss(reduction='none')\n",
    "    \n",
    "    def kullback_Leibler_divergence(self, z, mu, sigma):\n",
    "        q = torch.distributions.Normal(mu, sigma)\n",
    "\n",
    "        log_qz = q.log_prob(z)\n",
    "        log_pz = self.prior.log_prob(z)\n",
    "        \n",
    "        kl = (log_qz - log_pz).sum(-1)\n",
    "        \n",
    "        return kl\n",
    "    \n",
    "    def __call__(self, inputs, outputs, z, mu, sigma):\n",
    "        \n",
    "        re = self.reconstruction_error(outputs, inputs).sum(-1)\n",
    "        kl = self.kullback_Leibler_divergence(z, mu, sigma)\n",
    "\n",
    "        elbo = re + kl\n",
    "        return elbo.mean()"
   ]
  },
  {
   "cell_type": "code",
   "execution_count": 359,
   "metadata": {},
   "outputs": [],
   "source": [
    "\n",
    "def train(net, prior, train_data, val_data, img_dim, batch_size=10, learning_rate=0.0001, epochs=20, nr_test_samples=64, img_dir='vae'):\n",
    "    optimizer = optim.Adam(net.parameters(), lr=learning_rate)\n",
    "    criterion = ELBO(prior)\n",
    "    \n",
    "    train_loader = torch.utils.data.DataLoader(train_data, batch_size=batch_size, shuffle=True)\n",
    "    val_loader = torch.utils.data.DataLoader(val_data, batch_size=batch_size, shuffle=True)\n",
    "\n",
    "    running_loss = []\n",
    "    running_val_loss = []\n",
    "\n",
    "    for epoch in range(epochs):\n",
    "        print(\"Epoch:\" , epoch+1)\n",
    "\n",
    "        for i, data in tqdm(enumerate(train_loader), total=int(len(train_data)/train_loader.batch_size)):\n",
    "            optimizer.zero_grad()\n",
    "\n",
    "            inputs, _ = data\n",
    "            inputs = inputs.to(device)\n",
    "\n",
    "            # Forward\n",
    "            outputs, z, mu, sigma = net(inputs)\n",
    "            \n",
    "            # Backward\n",
    "            loss = criterion(inputs, outputs, z, mu, sigma)\n",
    "            loss.backward()\n",
    "            optimizer.step()\n",
    "            \n",
    "            running_loss.append(loss.item())\n",
    "            \n",
    "        sample = prior.sample(nr_test_samples)\n",
    "        generated_img = net.decoder(sample).view(nr_test_samples,img_dim,32,32)\n",
    "        generated_img = make_grid(generated_img)\n",
    "    \n",
    "        #SAVE IMAGE\n",
    "        im = Image.fromarray(np.array(to_pil_image(generated_img)))\n",
    "        im.save(f\"Images_output/{img_dir}/epoch_{epoch}.jpeg\")\n",
    "        \n",
    "        with torch.no_grad():\n",
    "            for inputs, _ in val_loader:\n",
    "                inputs = inputs.to(device)  \n",
    "                outputs, z, mu, sigma  = net(inputs)\n",
    "                loss = criterion(inputs, outputs, z, mu, sigma)\n",
    "                running_val_loss.append(loss)\n",
    "                \n",
    "        print(f'Train Loss: {np.mean(running_loss[-len(train_data):])} | Validation Loss: {np.mean(running_val_loss[-len(val_data):])}')\n",
    "    \n",
    "    return running_loss, running_val_loss\n",
    "\n",
    "\n"
   ]
  },
  {
   "cell_type": "markdown",
   "metadata": {},
   "source": [
    "## VAE on Mnist"
   ]
  },
  {
   "cell_type": "code",
   "execution_count": 285,
   "metadata": {
    "collapsed": true,
    "jupyter": {
     "outputs_hidden": true
    }
   },
   "outputs": [
    {
     "name": "stderr",
     "output_type": "stream",
     "text": [
      "  0%|          | 8/2200 [00:00<00:29, 74.69it/s]"
     ]
    },
    {
     "name": "stdout",
     "output_type": "stream",
     "text": [
      "Epoch: 1\n"
     ]
    },
    {
     "name": "stderr",
     "output_type": "stream",
     "text": [
      "100%|██████████| 2200/2200 [00:23<00:00, 94.69it/s]\n",
      "  0%|          | 10/2200 [00:00<00:23, 94.05it/s]"
     ]
    },
    {
     "name": "stdout",
     "output_type": "stream",
     "text": [
      "Train Loss: 270.1516437738592 | Validation Loss: 244.1982879638672\n",
      "Epoch: 2\n"
     ]
    },
    {
     "name": "stderr",
     "output_type": "stream",
     "text": [
      "100%|██████████| 2200/2200 [00:23<00:00, 94.42it/s]\n",
      "  0%|          | 10/2200 [00:00<00:23, 93.15it/s]"
     ]
    },
    {
     "name": "stdout",
     "output_type": "stream",
     "text": [
      "Train Loss: 250.32230444474655 | Validation Loss: 229.11285400390625\n",
      "Epoch: 3\n"
     ]
    },
    {
     "name": "stderr",
     "output_type": "stream",
     "text": [
      "100%|██████████| 2200/2200 [00:23<00:00, 94.23it/s]\n",
      "  0%|          | 10/2200 [00:00<00:23, 93.22it/s]"
     ]
    },
    {
     "name": "stdout",
     "output_type": "stream",
     "text": [
      "Train Loss: 235.89736766699588 | Validation Loss: 219.27517700195312\n",
      "Epoch: 4\n"
     ]
    },
    {
     "name": "stderr",
     "output_type": "stream",
     "text": [
      "100%|██████████| 2200/2200 [00:23<00:00, 93.60it/s]\n",
      "  0%|          | 10/2200 [00:00<00:23, 91.96it/s]"
     ]
    },
    {
     "name": "stdout",
     "output_type": "stream",
     "text": [
      "Train Loss: 225.69415427814832 | Validation Loss: 211.9357452392578\n",
      "Epoch: 5\n"
     ]
    },
    {
     "name": "stderr",
     "output_type": "stream",
     "text": [
      "100%|██████████| 2200/2200 [00:23<00:00, 94.31it/s]\n",
      "  0%|          | 10/2200 [00:00<00:23, 93.22it/s]"
     ]
    },
    {
     "name": "stdout",
     "output_type": "stream",
     "text": [
      "Train Loss: 217.83210822226783 | Validation Loss: 205.9114990234375\n",
      "Epoch: 6\n"
     ]
    },
    {
     "name": "stderr",
     "output_type": "stream",
     "text": [
      "100%|██████████| 2200/2200 [00:23<00:00, 94.30it/s]\n",
      "  0%|          | 10/2200 [00:00<00:23, 92.96it/s]"
     ]
    },
    {
     "name": "stdout",
     "output_type": "stream",
     "text": [
      "Train Loss: 211.30397053920862 | Validation Loss: 200.8014678955078\n",
      "Epoch: 7\n"
     ]
    },
    {
     "name": "stderr",
     "output_type": "stream",
     "text": [
      "100%|██████████| 2200/2200 [00:23<00:00, 93.59it/s]\n",
      "  0%|          | 9/2200 [00:00<00:25, 86.90it/s]"
     ]
    },
    {
     "name": "stdout",
     "output_type": "stream",
     "text": [
      "Train Loss: 205.80110804966517 | Validation Loss: 196.41043090820312\n",
      "Epoch: 8\n"
     ]
    },
    {
     "name": "stderr",
     "output_type": "stream",
     "text": [
      "100%|██████████| 2200/2200 [00:24<00:00, 91.44it/s]\n",
      "  0%|          | 10/2200 [00:00<00:24, 90.53it/s]"
     ]
    },
    {
     "name": "stdout",
     "output_type": "stream",
     "text": [
      "Train Loss: 201.14117405718022 | Validation Loss: 192.65402221679688\n",
      "Epoch: 9\n"
     ]
    },
    {
     "name": "stderr",
     "output_type": "stream",
     "text": [
      "100%|██████████| 2200/2200 [00:24<00:00, 90.77it/s]\n",
      "  0%|          | 8/2200 [00:00<00:29, 74.63it/s]"
     ]
    },
    {
     "name": "stdout",
     "output_type": "stream",
     "text": [
      "Train Loss: 197.15926374262028 | Validation Loss: 189.40977478027344\n",
      "Epoch: 10\n"
     ]
    },
    {
     "name": "stderr",
     "output_type": "stream",
     "text": [
      "100%|██████████| 2200/2200 [00:23<00:00, 92.82it/s]\n",
      "  0%|          | 9/2200 [00:00<00:24, 89.95it/s]"
     ]
    },
    {
     "name": "stdout",
     "output_type": "stream",
     "text": [
      "Train Loss: 193.719923278115 | Validation Loss: 186.6671905517578\n",
      "Epoch: 11\n"
     ]
    },
    {
     "name": "stderr",
     "output_type": "stream",
     "text": [
      "100%|██████████| 2200/2200 [00:23<00:00, 94.05it/s]\n",
      "  0%|          | 10/2200 [00:00<00:23, 92.21it/s]"
     ]
    },
    {
     "name": "stdout",
     "output_type": "stream",
     "text": [
      "Train Loss: 190.72141235225456 | Validation Loss: 184.21377563476562\n",
      "Epoch: 12\n"
     ]
    },
    {
     "name": "stderr",
     "output_type": "stream",
     "text": [
      "100%|██████████| 2200/2200 [00:23<00:00, 94.05it/s]\n",
      "  0%|          | 10/2200 [00:00<00:23, 91.42it/s]"
     ]
    },
    {
     "name": "stdout",
     "output_type": "stream",
     "text": [
      "Train Loss: 188.09274291703196 | Validation Loss: 182.0551300048828\n",
      "Epoch: 13\n"
     ]
    },
    {
     "name": "stderr",
     "output_type": "stream",
     "text": [
      "100%|██████████| 2200/2200 [00:23<00:00, 93.98it/s]\n",
      "  0%|          | 9/2200 [00:00<00:24, 89.57it/s]"
     ]
    },
    {
     "name": "stdout",
     "output_type": "stream",
     "text": [
      "Train Loss: 185.76897087737396 | Validation Loss: 180.16346740722656\n",
      "Epoch: 14\n"
     ]
    },
    {
     "name": "stderr",
     "output_type": "stream",
     "text": [
      "100%|██████████| 2200/2200 [00:23<00:00, 93.55it/s]\n",
      "  0%|          | 10/2200 [00:00<00:23, 91.80it/s]"
     ]
    },
    {
     "name": "stdout",
     "output_type": "stream",
     "text": [
      "Train Loss: 183.70169042512967 | Validation Loss: 178.46298217773438\n",
      "Epoch: 15\n"
     ]
    },
    {
     "name": "stderr",
     "output_type": "stream",
     "text": [
      "100%|██████████| 2200/2200 [00:23<00:00, 93.95it/s]\n",
      "  0%|          | 10/2200 [00:00<00:24, 91.21it/s]"
     ]
    },
    {
     "name": "stdout",
     "output_type": "stream",
     "text": [
      "Train Loss: 181.84781416621354 | Validation Loss: 176.941650390625\n",
      "Epoch: 16\n"
     ]
    },
    {
     "name": "stderr",
     "output_type": "stream",
     "text": [
      "100%|██████████| 2200/2200 [00:23<00:00, 93.86it/s]\n",
      "  0%|          | 10/2200 [00:00<00:23, 92.45it/s]"
     ]
    },
    {
     "name": "stdout",
     "output_type": "stream",
     "text": [
      "Train Loss: 180.17809626882726 | Validation Loss: 175.54234313964844\n",
      "Epoch: 17\n"
     ]
    },
    {
     "name": "stderr",
     "output_type": "stream",
     "text": [
      "100%|██████████| 2200/2200 [00:23<00:00, 93.82it/s]\n",
      "  0%|          | 10/2200 [00:00<00:24, 90.90it/s]"
     ]
    },
    {
     "name": "stdout",
     "output_type": "stream",
     "text": [
      "Train Loss: 178.66833701291824 | Validation Loss: 174.29078674316406\n",
      "Epoch: 18\n"
     ]
    },
    {
     "name": "stderr",
     "output_type": "stream",
     "text": [
      "100%|██████████| 2200/2200 [00:23<00:00, 93.91it/s]\n",
      "  0%|          | 10/2200 [00:00<00:23, 92.06it/s]"
     ]
    },
    {
     "name": "stdout",
     "output_type": "stream",
     "text": [
      "Train Loss: 177.29334151624428 | Validation Loss: 173.13812255859375\n",
      "Epoch: 19\n"
     ]
    },
    {
     "name": "stderr",
     "output_type": "stream",
     "text": [
      "100%|██████████| 2200/2200 [00:23<00:00, 93.78it/s]\n",
      "  0%|          | 10/2200 [00:00<00:23, 91.85it/s]"
     ]
    },
    {
     "name": "stdout",
     "output_type": "stream",
     "text": [
      "Train Loss: 176.03764746871292 | Validation Loss: 172.08387756347656\n",
      "Epoch: 20\n"
     ]
    },
    {
     "name": "stderr",
     "output_type": "stream",
     "text": [
      "100%|██████████| 2200/2200 [00:23<00:00, 93.90it/s]\n",
      "  0%|          | 10/2200 [00:00<00:23, 91.80it/s]"
     ]
    },
    {
     "name": "stdout",
     "output_type": "stream",
     "text": [
      "Train Loss: 174.8854922698628 | Validation Loss: 171.11239624023438\n",
      "Epoch: 21\n"
     ]
    },
    {
     "name": "stderr",
     "output_type": "stream",
     "text": [
      "100%|██████████| 2200/2200 [00:23<00:00, 93.92it/s]\n",
      "  0%|          | 10/2200 [00:00<00:23, 91.41it/s]"
     ]
    },
    {
     "name": "stdout",
     "output_type": "stream",
     "text": [
      "Train Loss: 173.82202372018392 | Validation Loss: 170.22157287597656\n",
      "Epoch: 22\n"
     ]
    },
    {
     "name": "stderr",
     "output_type": "stream",
     "text": [
      "100%|██████████| 2200/2200 [00:23<00:00, 93.81it/s]\n",
      "  0%|          | 10/2200 [00:00<00:23, 91.77it/s]"
     ]
    },
    {
     "name": "stdout",
     "output_type": "stream",
     "text": [
      "Train Loss: 172.8361490520761 | Validation Loss: 169.39358520507812\n",
      "Epoch: 23\n"
     ]
    },
    {
     "name": "stderr",
     "output_type": "stream",
     "text": [
      "100%|██████████| 2200/2200 [00:23<00:00, 93.84it/s]\n",
      "  0%|          | 10/2200 [00:00<00:23, 92.66it/s]"
     ]
    },
    {
     "name": "stdout",
     "output_type": "stream",
     "text": [
      "Train Loss: 171.92219300522635 | Validation Loss: 168.63894653320312\n",
      "Epoch: 24\n"
     ]
    },
    {
     "name": "stderr",
     "output_type": "stream",
     "text": [
      "100%|██████████| 2200/2200 [00:23<00:00, 91.99it/s]\n",
      "  0%|          | 10/2200 [00:00<00:24, 91.12it/s]"
     ]
    },
    {
     "name": "stdout",
     "output_type": "stream",
     "text": [
      "Train Loss: 171.0699568569299 | Validation Loss: 167.92291259765625\n",
      "Epoch: 25\n"
     ]
    },
    {
     "name": "stderr",
     "output_type": "stream",
     "text": [
      "100%|██████████| 2200/2200 [00:23<00:00, 92.09it/s]\n",
      "  0%|          | 10/2200 [00:00<00:23, 91.38it/s]"
     ]
    },
    {
     "name": "stdout",
     "output_type": "stream",
     "text": [
      "Train Loss: 170.27308333823464 | Validation Loss: 167.2489776611328\n",
      "Epoch: 26\n"
     ]
    },
    {
     "name": "stderr",
     "output_type": "stream",
     "text": [
      "100%|██████████| 2200/2200 [00:23<00:00, 93.77it/s]\n",
      "  0%|          | 10/2200 [00:00<00:23, 91.92it/s]"
     ]
    },
    {
     "name": "stdout",
     "output_type": "stream",
     "text": [
      "Train Loss: 165.50013502641158 | Validation Loss: 163.51144409179688\n",
      "Epoch: 27\n"
     ]
    },
    {
     "name": "stderr",
     "output_type": "stream",
     "text": [
      "100%|██████████| 2200/2200 [00:23<00:00, 93.76it/s]\n",
      "  0%|          | 10/2200 [00:00<00:23, 92.31it/s]"
     ]
    },
    {
     "name": "stdout",
     "output_type": "stream",
     "text": [
      "Train Loss: 162.30464344843085 | Validation Loss: 160.9781036376953\n",
      "Epoch: 28\n"
     ]
    },
    {
     "name": "stderr",
     "output_type": "stream",
     "text": [
      "100%|██████████| 2200/2200 [00:23<00:00, 93.31it/s]\n",
      "  0%|          | 10/2200 [00:00<00:24, 91.19it/s]"
     ]
    },
    {
     "name": "stdout",
     "output_type": "stream",
     "text": [
      "Train Loss: 160.03585266085537 | Validation Loss: 159.0105438232422\n",
      "Epoch: 29\n"
     ]
    },
    {
     "name": "stderr",
     "output_type": "stream",
     "text": [
      "100%|██████████| 2200/2200 [00:23<00:00, 92.71it/s]\n",
      "  0%|          | 10/2200 [00:00<00:23, 93.01it/s]"
     ]
    },
    {
     "name": "stdout",
     "output_type": "stream",
     "text": [
      "Train Loss: 158.23639180394952 | Validation Loss: 157.42616271972656\n",
      "Epoch: 30\n"
     ]
    },
    {
     "name": "stderr",
     "output_type": "stream",
     "text": [
      "100%|██████████| 2200/2200 [00:23<00:00, 93.11it/s]\n",
      "  0%|          | 10/2200 [00:00<00:23, 91.31it/s]"
     ]
    },
    {
     "name": "stdout",
     "output_type": "stream",
     "text": [
      "Train Loss: 156.77592800889448 | Validation Loss: 156.1508331298828\n",
      "Epoch: 31\n"
     ]
    },
    {
     "name": "stderr",
     "output_type": "stream",
     "text": [
      "100%|██████████| 2200/2200 [00:23<00:00, 93.72it/s]\n",
      "  0%|          | 10/2200 [00:00<00:23, 91.84it/s]"
     ]
    },
    {
     "name": "stdout",
     "output_type": "stream",
     "text": [
      "Train Loss: 155.61682414994672 | Validation Loss: 155.13632202148438\n",
      "Epoch: 32\n"
     ]
    },
    {
     "name": "stderr",
     "output_type": "stream",
     "text": [
      "100%|██████████| 2200/2200 [00:23<00:00, 93.62it/s]\n",
      "  0%|          | 10/2200 [00:00<00:24, 91.09it/s]"
     ]
    },
    {
     "name": "stdout",
     "output_type": "stream",
     "text": [
      "Train Loss: 154.6845383367365 | Validation Loss: 154.3175048828125\n",
      "Epoch: 33\n"
     ]
    },
    {
     "name": "stderr",
     "output_type": "stream",
     "text": [
      "100%|██████████| 2200/2200 [00:23<00:00, 93.43it/s]\n",
      "  0%|          | 9/2200 [00:00<00:24, 88.18it/s]"
     ]
    },
    {
     "name": "stdout",
     "output_type": "stream",
     "text": [
      "Train Loss: 153.9156607685436 | Validation Loss: 153.6367950439453\n",
      "Epoch: 34\n"
     ]
    },
    {
     "name": "stderr",
     "output_type": "stream",
     "text": [
      "100%|██████████| 2200/2200 [00:23<00:00, 93.22it/s]\n",
      "  0%|          | 10/2200 [00:00<00:24, 90.75it/s]"
     ]
    },
    {
     "name": "stdout",
     "output_type": "stream",
     "text": [
      "Train Loss: 153.26744490966797 | Validation Loss: 153.06959533691406\n",
      "Epoch: 35\n"
     ]
    },
    {
     "name": "stderr",
     "output_type": "stream",
     "text": [
      "100%|██████████| 2200/2200 [00:23<00:00, 93.47it/s]\n",
      "  0%|          | 10/2200 [00:00<00:23, 91.44it/s]"
     ]
    },
    {
     "name": "stdout",
     "output_type": "stream",
     "text": [
      "Train Loss: 152.71447335579612 | Validation Loss: 152.55287170410156\n",
      "Epoch: 36\n"
     ]
    },
    {
     "name": "stderr",
     "output_type": "stream",
     "text": [
      "100%|██████████| 2200/2200 [00:23<00:00, 93.52it/s]\n",
      "  0%|          | 10/2200 [00:00<00:23, 92.51it/s]"
     ]
    },
    {
     "name": "stdout",
     "output_type": "stream",
     "text": [
      "Train Loss: 152.23606629264137 | Validation Loss: 152.13284301757812\n",
      "Epoch: 37\n"
     ]
    },
    {
     "name": "stderr",
     "output_type": "stream",
     "text": [
      "100%|██████████| 2200/2200 [00:23<00:00, 93.47it/s]\n",
      "  0%|          | 10/2200 [00:00<00:23, 91.81it/s]"
     ]
    },
    {
     "name": "stdout",
     "output_type": "stream",
     "text": [
      "Train Loss: 151.81277899780272 | Validation Loss: 151.75633239746094\n",
      "Epoch: 38\n"
     ]
    },
    {
     "name": "stderr",
     "output_type": "stream",
     "text": [
      "100%|██████████| 2200/2200 [00:24<00:00, 90.75it/s]\n",
      "  0%|          | 10/2200 [00:00<00:23, 91.40it/s]"
     ]
    },
    {
     "name": "stdout",
     "output_type": "stream",
     "text": [
      "Train Loss: 151.43579363791727 | Validation Loss: 151.40078735351562\n",
      "Epoch: 39\n"
     ]
    },
    {
     "name": "stderr",
     "output_type": "stream",
     "text": [
      "100%|██████████| 2200/2200 [00:23<00:00, 92.26it/s]\n",
      "  0%|          | 10/2200 [00:00<00:23, 93.15it/s]"
     ]
    },
    {
     "name": "stdout",
     "output_type": "stream",
     "text": [
      "Train Loss: 151.09622129974366 | Validation Loss: 151.09268188476562\n",
      "Epoch: 40\n"
     ]
    },
    {
     "name": "stderr",
     "output_type": "stream",
     "text": [
      "100%|██████████| 2200/2200 [00:23<00:00, 94.13it/s]\n",
      "  0%|          | 10/2200 [00:00<00:23, 92.74it/s]"
     ]
    },
    {
     "name": "stdout",
     "output_type": "stream",
     "text": [
      "Train Loss: 150.78847610265558 | Validation Loss: 150.80178833007812\n",
      "Epoch: 41\n"
     ]
    },
    {
     "name": "stderr",
     "output_type": "stream",
     "text": [
      "100%|██████████| 2200/2200 [00:23<00:00, 93.41it/s]\n",
      "  0%|          | 9/2200 [00:00<00:24, 88.91it/s]"
     ]
    },
    {
     "name": "stdout",
     "output_type": "stream",
     "text": [
      "Train Loss: 150.50487543182373 | Validation Loss: 150.54879760742188\n",
      "Epoch: 42\n"
     ]
    },
    {
     "name": "stderr",
     "output_type": "stream",
     "text": [
      "100%|██████████| 2200/2200 [00:23<00:00, 93.31it/s]\n",
      "  0%|          | 10/2200 [00:00<00:23, 92.55it/s]"
     ]
    },
    {
     "name": "stdout",
     "output_type": "stream",
     "text": [
      "Train Loss: 150.24245757224344 | Validation Loss: 150.3014373779297\n",
      "Epoch: 43\n"
     ]
    },
    {
     "name": "stderr",
     "output_type": "stream",
     "text": [
      "100%|██████████| 2200/2200 [00:23<00:00, 93.87it/s]\n",
      "  0%|          | 10/2200 [00:00<00:23, 93.02it/s]"
     ]
    },
    {
     "name": "stdout",
     "output_type": "stream",
     "text": [
      "Train Loss: 149.99913449804131 | Validation Loss: 150.0843505859375\n",
      "Epoch: 44\n"
     ]
    },
    {
     "name": "stderr",
     "output_type": "stream",
     "text": [
      "100%|██████████| 2200/2200 [00:23<00:00, 93.84it/s]\n",
      "  0%|          | 10/2200 [00:00<00:23, 92.83it/s]"
     ]
    },
    {
     "name": "stdout",
     "output_type": "stream",
     "text": [
      "Train Loss: 149.76888604902788 | Validation Loss: 149.87442016601562\n",
      "Epoch: 45\n"
     ]
    },
    {
     "name": "stderr",
     "output_type": "stream",
     "text": [
      "100%|██████████| 2200/2200 [00:23<00:00, 93.79it/s]\n",
      "  0%|          | 10/2200 [00:00<00:23, 92.54it/s]"
     ]
    },
    {
     "name": "stdout",
     "output_type": "stream",
     "text": [
      "Train Loss: 149.5534232788086 | Validation Loss: 149.67514038085938\n",
      "Epoch: 46\n"
     ]
    },
    {
     "name": "stderr",
     "output_type": "stream",
     "text": [
      "100%|██████████| 2200/2200 [00:23<00:00, 93.83it/s]\n",
      "  0%|          | 10/2200 [00:00<00:23, 93.44it/s]"
     ]
    },
    {
     "name": "stdout",
     "output_type": "stream",
     "text": [
      "Train Loss: 149.34999672033138 | Validation Loss: 149.4891815185547\n",
      "Epoch: 47\n"
     ]
    },
    {
     "name": "stderr",
     "output_type": "stream",
     "text": [
      "100%|██████████| 2200/2200 [00:23<00:00, 93.77it/s]\n",
      "  0%|          | 10/2200 [00:00<00:23, 92.06it/s]"
     ]
    },
    {
     "name": "stdout",
     "output_type": "stream",
     "text": [
      "Train Loss: 149.1603547103882 | Validation Loss: 149.3135986328125\n",
      "Epoch: 48\n"
     ]
    },
    {
     "name": "stderr",
     "output_type": "stream",
     "text": [
      "100%|██████████| 2200/2200 [00:23<00:00, 93.79it/s]\n",
      "  0%|          | 10/2200 [00:00<00:23, 92.75it/s]"
     ]
    },
    {
     "name": "stdout",
     "output_type": "stream",
     "text": [
      "Train Loss: 148.9787090660789 | Validation Loss: 149.13189697265625\n",
      "Epoch: 49\n"
     ]
    },
    {
     "name": "stderr",
     "output_type": "stream",
     "text": [
      "100%|██████████| 2200/2200 [00:23<00:00, 93.80it/s]\n",
      "  0%|          | 10/2200 [00:00<00:23, 93.20it/s]"
     ]
    },
    {
     "name": "stdout",
     "output_type": "stream",
     "text": [
      "Train Loss: 148.80677926316696 | Validation Loss: 148.97625732421875\n",
      "Epoch: 50\n"
     ]
    },
    {
     "name": "stderr",
     "output_type": "stream",
     "text": [
      "100%|██████████| 2200/2200 [00:23<00:00, 93.87it/s]\n"
     ]
    },
    {
     "name": "stdout",
     "output_type": "stream",
     "text": [
      "Train Loss: 148.6439887656472 | Validation Loss: 148.82684326171875\n"
     ]
    }
   ],
   "source": [
    "input_size = 32*32\n",
    "net = VAE(input_size).to(device)\n",
    "prior = GaussianPrior()\n",
    "train_set, val_set = torch.utils.data.random_split(mnist_train, [55000, 5000])\n",
    "train_loss, val_loss = train(net, prior, train_set, val_set, 1, batch_size=25, epochs=50)\n"
   ]
  },
  {
   "cell_type": "code",
   "execution_count": 301,
   "metadata": {},
   "outputs": [
    {
     "data": {
      "image/png": "[encoded data removed]",
      "text/plain": [
       "<Figure size 432x288 with 1 Axes>"
      ]
     },
     "metadata": {
      "needs_background": "light"
     },
     "output_type": "display_data"
    }
   ],
   "source": [
    "train_loss_epoch = np.array(train_loss).reshape(-1, int(55000/25)).mean(axis=1)\n",
    "val_loss_epoch = np.array(val_loss).reshape(-1, int(5000/25)).mean(axis=1)\n",
    "\n",
    "plt.plot(train_loss_epoch)\n",
    "plt.plot(val_loss_epoch)\n",
    "plt.show()"
   ]
  },
  {
   "cell_type": "code",
   "execution_count": null,
   "metadata": {},
   "outputs": [],
   "source": [
    "def plot_reconstructed(autoencoder, r0=(-5, 10), r1=(-10, 5), n=100):\n",
    "    w = 32\n",
    "    img = np.zeros((n*w, n*w))\n",
    "    for i, y in enumerate(np.linspace(*r1, n)):\n",
    "        for j, x in enumerate(np.linspace(*r0, n)):\n",
    "            z = torch.Tensor([[x, y]]).to(device)\n",
    "            x_hat = net.decoder(z)\n",
    "            \n",
    "            generated_img = net.decoder(sample).view(nr_test_samples,img_dim,32,32)\n",
    "            \n",
    "            x_hat = x_hat.reshape(28, 28).to('cpu').detach().numpy()\n",
    "            img[(n-1-i)*w:(n-1-i+1)*w, j*w:(j+1)*w] = x_hat\n",
    "    plt.imshow(img, extent=[*r0, *r1])"
   ]
  },
  {
   "cell_type": "code",
   "execution_count": 382,
   "metadata": {},
   "outputs": [],
   "source": [
    "def plot_manifold_sample(net, img_dim, n=12):\n",
    "    w = 32\n",
    "    img = np.zeros((n*w, n*w, img_dim))\n",
    "    \n",
    "    s, e1, e2 = prior.sample(3)\n",
    "    \n",
    "    for i, y in enumerate(np.linspace(0, 1, n)):\n",
    "        for j, x in enumerate(np.linspace(0, 1, n)):\n",
    "            \n",
    "            z = s + (e1-s) * x + (e2-s) * y\n",
    "            generated_image = net.decoder(z.view(-1,100)).view(img_dim, 32,32)\n",
    "\n",
    "            img[(n-1-i)*w:(n-1-i+1)*w, j*w:(j+1)*w,:] = generated_image.detach().numpy().transpose((1,2,0))\n",
    "    plt.imshow(img, extent=[0, 1, 0, 1])\n"
   ]
  },
  {
   "cell_type": "code",
   "execution_count": 399,
   "metadata": {},
   "outputs": [
    {
     "data": {
      "image/png": "[encoded data removed]",
      "text/plain": [
       "<Figure size 432x288 with 1 Axes>"
      ]
     },
     "metadata": {
      "needs_background": "light"
     },
     "output_type": "display_data"
    }
   ],
   "source": [
    "plot_manifold_sample(net, 1)"
   ]
  },
  {
   "cell_type": "markdown",
   "metadata": {},
   "source": [
    "## VAE on svhn"
   ]
  },
  {
   "cell_type": "code",
   "execution_count": 361,
   "metadata": {
    "collapsed": true,
    "jupyter": {
     "outputs_hidden": true
    }
   },
   "outputs": [
    {
     "name": "stderr",
     "output_type": "stream",
     "text": [
      "  0%|          | 5/2400 [00:00<00:54, 44.06it/s]"
     ]
    },
    {
     "name": "stdout",
     "output_type": "stream",
     "text": [
      "Epoch: 1\n"
     ]
    },
    {
     "name": "stderr",
     "output_type": "stream",
     "text": [
      "100%|██████████| 2400/2400 [00:44<00:00, 54.06it/s]\n",
      "  0%|          | 6/2400 [00:00<00:44, 53.25it/s]"
     ]
    },
    {
     "name": "stdout",
     "output_type": "stream",
     "text": [
      "Train Loss: 2008.219019165039 | Validation Loss: 1983.2210693359375\n",
      "Epoch: 2\n"
     ]
    },
    {
     "name": "stderr",
     "output_type": "stream",
     "text": [
      "100%|██████████| 2400/2400 [00:44<00:00, 53.64it/s]\n",
      "  0%|          | 6/2400 [00:00<00:45, 52.91it/s]"
     ]
    },
    {
     "name": "stdout",
     "output_type": "stream",
     "text": [
      "Train Loss: 1991.0564805348715 | Validation Loss: 1974.1456298828125\n",
      "Epoch: 3\n"
     ]
    },
    {
     "name": "stderr",
     "output_type": "stream",
     "text": [
      "100%|██████████| 2400/2400 [00:45<00:00, 52.86it/s]\n",
      "  0%|          | 6/2400 [00:00<00:45, 53.19it/s]"
     ]
    },
    {
     "name": "stdout",
     "output_type": "stream",
     "text": [
      "Train Loss: 1977.5858555263944 | Validation Loss: 1963.858154296875\n",
      "Epoch: 4\n"
     ]
    },
    {
     "name": "stderr",
     "output_type": "stream",
     "text": [
      "100%|██████████| 2400/2400 [00:44<00:00, 53.34it/s]\n",
      "  0%|          | 6/2400 [00:00<00:45, 53.08it/s]"
     ]
    },
    {
     "name": "stdout",
     "output_type": "stream",
     "text": [
      "Train Loss: 1968.1798541005453 | Validation Loss: 1957.086181640625\n",
      "Epoch: 5\n"
     ]
    },
    {
     "name": "stderr",
     "output_type": "stream",
     "text": [
      "100%|██████████| 2400/2400 [00:45<00:00, 53.33it/s]\n",
      "  0%|          | 6/2400 [00:00<00:45, 52.83it/s]"
     ]
    },
    {
     "name": "stdout",
     "output_type": "stream",
     "text": [
      "Train Loss: 1961.5626697591147 | Validation Loss: 1952.1402587890625\n",
      "Epoch: 6\n"
     ]
    },
    {
     "name": "stderr",
     "output_type": "stream",
     "text": [
      "100%|██████████| 2400/2400 [00:45<00:00, 53.25it/s]\n",
      "  0%|          | 6/2400 [00:00<00:44, 53.38it/s]"
     ]
    },
    {
     "name": "stdout",
     "output_type": "stream",
     "text": [
      "Train Loss: 1956.5249621921116 | Validation Loss: 1948.5609130859375\n",
      "Epoch: 7\n"
     ]
    },
    {
     "name": "stderr",
     "output_type": "stream",
     "text": [
      "100%|██████████| 2400/2400 [00:44<00:00, 53.35it/s]\n",
      "  0%|          | 6/2400 [00:00<00:44, 53.22it/s]"
     ]
    },
    {
     "name": "stdout",
     "output_type": "stream",
     "text": [
      "Train Loss: 1952.515560578846 | Validation Loss: 1945.5501708984375\n",
      "Epoch: 8\n"
     ]
    },
    {
     "name": "stderr",
     "output_type": "stream",
     "text": [
      "100%|██████████| 2400/2400 [00:45<00:00, 53.30it/s]\n",
      "  0%|          | 6/2400 [00:00<00:44, 53.52it/s]"
     ]
    },
    {
     "name": "stdout",
     "output_type": "stream",
     "text": [
      "Train Loss: 1949.3526194572448 | Validation Loss: 1943.0706787109375\n",
      "Epoch: 9\n"
     ]
    },
    {
     "name": "stderr",
     "output_type": "stream",
     "text": [
      "100%|██████████| 2400/2400 [00:45<00:00, 53.26it/s]\n",
      "  0%|          | 6/2400 [00:00<00:44, 53.25it/s]"
     ]
    },
    {
     "name": "stdout",
     "output_type": "stream",
     "text": [
      "Train Loss: 1946.7371074874313 | Validation Loss: 1940.9725341796875\n",
      "Epoch: 10\n"
     ]
    },
    {
     "name": "stderr",
     "output_type": "stream",
     "text": [
      "100%|██████████| 2400/2400 [00:45<00:00, 53.27it/s]\n",
      "  0%|          | 6/2400 [00:00<00:46, 51.62it/s]"
     ]
    },
    {
     "name": "stdout",
     "output_type": "stream",
     "text": [
      "Train Loss: 1944.4792730051677 | Validation Loss: 1939.185546875\n",
      "Epoch: 11\n"
     ]
    },
    {
     "name": "stderr",
     "output_type": "stream",
     "text": [
      "100%|██████████| 2400/2400 [00:45<00:00, 53.23it/s]\n",
      "  0%|          | 6/2400 [00:00<00:45, 52.92it/s]"
     ]
    },
    {
     "name": "stdout",
     "output_type": "stream",
     "text": [
      "Train Loss: 1942.5312764115768 | Validation Loss: 1937.6236572265625\n",
      "Epoch: 12\n"
     ]
    },
    {
     "name": "stderr",
     "output_type": "stream",
     "text": [
      "100%|██████████| 2400/2400 [00:45<00:00, 53.19it/s]\n",
      "  0%|          | 6/2400 [00:00<00:45, 53.13it/s]"
     ]
    },
    {
     "name": "stdout",
     "output_type": "stream",
     "text": [
      "Train Loss: 1940.8690491146513 | Validation Loss: 1936.28564453125\n",
      "Epoch: 13\n"
     ]
    },
    {
     "name": "stderr",
     "output_type": "stream",
     "text": [
      "100%|██████████| 2400/2400 [00:45<00:00, 53.21it/s]\n",
      "  0%|          | 6/2400 [00:00<00:44, 53.38it/s]"
     ]
    },
    {
     "name": "stdout",
     "output_type": "stream",
     "text": [
      "Train Loss: 1939.4158399298253 | Validation Loss: 1935.1151123046875\n",
      "Epoch: 14\n"
     ]
    },
    {
     "name": "stderr",
     "output_type": "stream",
     "text": [
      "100%|██████████| 2400/2400 [00:45<00:00, 53.19it/s]\n",
      "  0%|          | 6/2400 [00:00<00:45, 53.03it/s]"
     ]
    },
    {
     "name": "stdout",
     "output_type": "stream",
     "text": [
      "Train Loss: 1938.0743813323975 | Validation Loss: 1934.0250244140625\n",
      "Epoch: 15\n"
     ]
    },
    {
     "name": "stderr",
     "output_type": "stream",
     "text": [
      "100%|██████████| 2400/2400 [00:45<00:00, 53.19it/s]\n",
      "  0%|          | 6/2400 [00:00<00:45, 53.02it/s]"
     ]
    },
    {
     "name": "stdout",
     "output_type": "stream",
     "text": [
      "Train Loss: 1936.8695265333388 | Validation Loss: 1933.0234375\n",
      "Epoch: 16\n"
     ]
    },
    {
     "name": "stderr",
     "output_type": "stream",
     "text": [
      "100%|██████████| 2400/2400 [00:45<00:00, 53.14it/s]\n",
      "  0%|          | 6/2400 [00:00<00:46, 51.83it/s]"
     ]
    },
    {
     "name": "stdout",
     "output_type": "stream",
     "text": [
      "Train Loss: 1935.7561711152396 | Validation Loss: 1932.0814208984375\n",
      "Epoch: 17\n"
     ]
    },
    {
     "name": "stderr",
     "output_type": "stream",
     "text": [
      "100%|██████████| 2400/2400 [00:45<00:00, 53.20it/s]\n",
      "  0%|          | 6/2400 [00:00<00:45, 52.19it/s]"
     ]
    },
    {
     "name": "stdout",
     "output_type": "stream",
     "text": [
      "Train Loss: 1934.7418698479148 | Validation Loss: 1931.2271728515625\n",
      "Epoch: 18\n"
     ]
    },
    {
     "name": "stderr",
     "output_type": "stream",
     "text": [
      "100%|██████████| 2400/2400 [00:45<00:00, 53.20it/s]\n",
      "  0%|          | 6/2400 [00:00<00:45, 53.14it/s]"
     ]
    },
    {
     "name": "stdout",
     "output_type": "stream",
     "text": [
      "Train Loss: 1933.8053373407436 | Validation Loss: 1930.4278564453125\n",
      "Epoch: 19\n"
     ]
    },
    {
     "name": "stderr",
     "output_type": "stream",
     "text": [
      "100%|██████████| 2400/2400 [00:45<00:00, 53.19it/s]\n",
      "  0%|          | 6/2400 [00:00<00:45, 52.54it/s]"
     ]
    },
    {
     "name": "stdout",
     "output_type": "stream",
     "text": [
      "Train Loss: 1932.9383416721278 | Validation Loss: 1929.6923828125\n",
      "Epoch: 20\n"
     ]
    },
    {
     "name": "stderr",
     "output_type": "stream",
     "text": [
      "100%|██████████| 2400/2400 [00:45<00:00, 53.10it/s]\n",
      "  0%|          | 6/2400 [00:00<00:45, 52.82it/s]"
     ]
    },
    {
     "name": "stdout",
     "output_type": "stream",
     "text": [
      "Train Loss: 1932.1374249649048 | Validation Loss: 1929.01806640625\n",
      "Epoch: 21\n"
     ]
    },
    {
     "name": "stderr",
     "output_type": "stream",
     "text": [
      "100%|██████████| 2400/2400 [00:45<00:00, 53.18it/s]\n",
      "  0%|          | 6/2400 [00:00<00:45, 52.91it/s]"
     ]
    },
    {
     "name": "stdout",
     "output_type": "stream",
     "text": [
      "Train Loss: 1931.4029063076443 | Validation Loss: 1928.3944091796875\n",
      "Epoch: 22\n"
     ]
    },
    {
     "name": "stderr",
     "output_type": "stream",
     "text": [
      "100%|██████████| 2400/2400 [00:45<00:00, 53.16it/s]\n",
      "  0%|          | 6/2400 [00:00<00:44, 53.22it/s]"
     ]
    },
    {
     "name": "stdout",
     "output_type": "stream",
     "text": [
      "Train Loss: 1930.7212946227103 | Validation Loss: 1927.8201904296875\n",
      "Epoch: 23\n"
     ]
    },
    {
     "name": "stderr",
     "output_type": "stream",
     "text": [
      "100%|██████████| 2400/2400 [00:45<00:00, 53.11it/s]\n",
      "  0%|          | 6/2400 [00:00<00:45, 52.10it/s]"
     ]
    },
    {
     "name": "stdout",
     "output_type": "stream",
     "text": [
      "Train Loss: 1930.0880470474906 | Validation Loss: 1927.2803955078125\n",
      "Epoch: 24\n"
     ]
    },
    {
     "name": "stderr",
     "output_type": "stream",
     "text": [
      "100%|██████████| 2400/2400 [00:45<00:00, 53.09it/s]\n",
      "  0%|          | 6/2400 [00:00<00:45, 52.68it/s]"
     ]
    },
    {
     "name": "stdout",
     "output_type": "stream",
     "text": [
      "Train Loss: 1929.4948235999213 | Validation Loss: 1926.77587890625\n",
      "Epoch: 25\n"
     ]
    },
    {
     "name": "stderr",
     "output_type": "stream",
     "text": [
      "100%|██████████| 2400/2400 [00:45<00:00, 53.11it/s]\n",
      "  0%|          | 6/2400 [00:00<00:45, 53.07it/s]"
     ]
    },
    {
     "name": "stdout",
     "output_type": "stream",
     "text": [
      "Train Loss: 1928.934547310384 | Validation Loss: 1926.224609375\n",
      "Epoch: 26\n"
     ]
    },
    {
     "name": "stderr",
     "output_type": "stream",
     "text": [
      "100%|██████████| 2400/2400 [00:45<00:00, 53.16it/s]\n",
      "  0%|          | 6/2400 [00:00<00:45, 52.88it/s]"
     ]
    },
    {
     "name": "stdout",
     "output_type": "stream",
     "text": [
      "Train Loss: 1925.2194585347493 | Validation Loss: 1923.5274658203125\n",
      "Epoch: 27\n"
     ]
    },
    {
     "name": "stderr",
     "output_type": "stream",
     "text": [
      "100%|██████████| 2400/2400 [00:45<00:00, 53.04it/s]\n",
      "  0%|          | 6/2400 [00:00<00:45, 52.91it/s]"
     ]
    },
    {
     "name": "stdout",
     "output_type": "stream",
     "text": [
      "Train Loss: 1922.8686642883301 | Validation Loss: 1921.498046875\n",
      "Epoch: 28\n"
     ]
    },
    {
     "name": "stderr",
     "output_type": "stream",
     "text": [
      "100%|██████████| 2400/2400 [00:45<00:00, 52.97it/s]\n",
      "  0%|          | 6/2400 [00:00<00:46, 51.85it/s]"
     ]
    },
    {
     "name": "stdout",
     "output_type": "stream",
     "text": [
      "Train Loss: 1921.4359553487143 | Validation Loss: 1920.3590087890625\n",
      "Epoch: 29\n"
     ]
    },
    {
     "name": "stderr",
     "output_type": "stream",
     "text": [
      "100%|██████████| 2400/2400 [00:45<00:00, 53.08it/s]\n",
      "  0%|          | 6/2400 [00:00<00:45, 52.89it/s]"
     ]
    },
    {
     "name": "stdout",
     "output_type": "stream",
     "text": [
      "Train Loss: 1920.4180966186523 | Validation Loss: 1919.4599609375\n",
      "Epoch: 30\n"
     ]
    },
    {
     "name": "stderr",
     "output_type": "stream",
     "text": [
      "100%|██████████| 2400/2400 [00:45<00:00, 52.76it/s]\n",
      "  0%|          | 6/2400 [00:00<00:46, 51.96it/s]"
     ]
    },
    {
     "name": "stdout",
     "output_type": "stream",
     "text": [
      "Train Loss: 1919.580753991699 | Validation Loss: 1918.711669921875\n",
      "Epoch: 31\n"
     ]
    },
    {
     "name": "stderr",
     "output_type": "stream",
     "text": [
      "100%|██████████| 2400/2400 [00:47<00:00, 50.96it/s]\n",
      "  0%|          | 5/2400 [00:00<00:55, 42.81it/s]"
     ]
    },
    {
     "name": "stdout",
     "output_type": "stream",
     "text": [
      "Train Loss: 1918.887363462321 | Validation Loss: 1918.05078125\n",
      "Epoch: 32\n"
     ]
    },
    {
     "name": "stderr",
     "output_type": "stream",
     "text": [
      "100%|██████████| 2400/2400 [00:47<00:00, 50.70it/s]\n",
      "  0%|          | 6/2400 [00:00<00:45, 52.51it/s]"
     ]
    },
    {
     "name": "stdout",
     "output_type": "stream",
     "text": [
      "Train Loss: 1918.3025220499674 | Validation Loss: 1917.510498046875\n",
      "Epoch: 33\n"
     ]
    },
    {
     "name": "stderr",
     "output_type": "stream",
     "text": [
      "100%|██████████| 2400/2400 [00:46<00:00, 52.05it/s]\n",
      "  0%|          | 6/2400 [00:00<00:45, 53.03it/s]"
     ]
    },
    {
     "name": "stdout",
     "output_type": "stream",
     "text": [
      "Train Loss: 1917.761284375 | Validation Loss: 1917.0009765625\n",
      "Epoch: 34\n"
     ]
    },
    {
     "name": "stderr",
     "output_type": "stream",
     "text": [
      "100%|██████████| 2400/2400 [00:46<00:00, 51.87it/s]\n",
      "  0%|          | 6/2400 [00:00<00:45, 52.90it/s]"
     ]
    },
    {
     "name": "stdout",
     "output_type": "stream",
     "text": [
      "Train Loss: 1917.2694245279947 | Validation Loss: 1916.5352783203125\n",
      "Epoch: 35\n"
     ]
    },
    {
     "name": "stderr",
     "output_type": "stream",
     "text": [
      "100%|██████████| 2400/2400 [00:44<00:00, 53.48it/s]\n",
      "  0%|          | 6/2400 [00:00<00:45, 53.12it/s]"
     ]
    },
    {
     "name": "stdout",
     "output_type": "stream",
     "text": [
      "Train Loss: 1916.8368237487794 | Validation Loss: 1916.1873779296875\n",
      "Epoch: 36\n"
     ]
    },
    {
     "name": "stderr",
     "output_type": "stream",
     "text": [
      "100%|██████████| 2400/2400 [00:44<00:00, 53.58it/s]\n",
      "  0%|          | 6/2400 [00:00<00:44, 53.29it/s]"
     ]
    },
    {
     "name": "stdout",
     "output_type": "stream",
     "text": [
      "Train Loss: 1916.440696081543 | Validation Loss: 1915.826416015625\n",
      "Epoch: 37\n"
     ]
    },
    {
     "name": "stderr",
     "output_type": "stream",
     "text": [
      "100%|██████████| 2400/2400 [00:44<00:00, 53.59it/s]\n",
      "  0%|          | 6/2400 [00:00<00:45, 53.17it/s]"
     ]
    },
    {
     "name": "stdout",
     "output_type": "stream",
     "text": [
      "Train Loss: 1916.0564823038737 | Validation Loss: 1915.470458984375\n",
      "Epoch: 38\n"
     ]
    },
    {
     "name": "stderr",
     "output_type": "stream",
     "text": [
      "100%|██████████| 2400/2400 [00:47<00:00, 50.98it/s]\n",
      "  0%|          | 6/2400 [00:00<00:46, 51.62it/s]"
     ]
    },
    {
     "name": "stdout",
     "output_type": "stream",
     "text": [
      "Train Loss: 1915.6903661214192 | Validation Loss: 1915.1513671875\n",
      "Epoch: 39\n"
     ]
    },
    {
     "name": "stderr",
     "output_type": "stream",
     "text": [
      "100%|██████████| 2400/2400 [00:45<00:00, 53.22it/s]\n",
      "  0%|          | 6/2400 [00:00<00:45, 52.73it/s]"
     ]
    },
    {
     "name": "stdout",
     "output_type": "stream",
     "text": [
      "Train Loss: 1915.3738681599934 | Validation Loss: 1914.856201171875\n",
      "Epoch: 40\n"
     ]
    },
    {
     "name": "stderr",
     "output_type": "stream",
     "text": [
      "100%|██████████| 2400/2400 [00:44<00:00, 53.63it/s]\n",
      "  0%|          | 6/2400 [00:00<00:45, 53.05it/s]"
     ]
    },
    {
     "name": "stdout",
     "output_type": "stream",
     "text": [
      "Train Loss: 1915.079614967855 | Validation Loss: 1914.58837890625\n",
      "Epoch: 41\n"
     ]
    },
    {
     "name": "stderr",
     "output_type": "stream",
     "text": [
      "100%|██████████| 2400/2400 [00:44<00:00, 53.64it/s]\n",
      "  0%|          | 6/2400 [00:00<00:44, 53.23it/s]"
     ]
    },
    {
     "name": "stdout",
     "output_type": "stream",
     "text": [
      "Train Loss: 1914.8188077473958 | Validation Loss: 1914.3516845703125\n",
      "Epoch: 42\n"
     ]
    },
    {
     "name": "stderr",
     "output_type": "stream",
     "text": [
      "100%|██████████| 2400/2400 [00:44<00:00, 53.41it/s]\n",
      "  0%|          | 6/2400 [00:00<00:44, 53.24it/s]"
     ]
    },
    {
     "name": "stdout",
     "output_type": "stream",
     "text": [
      "Train Loss: 1914.574226751709 | Validation Loss: 1914.1712646484375\n",
      "Epoch: 43\n"
     ]
    },
    {
     "name": "stderr",
     "output_type": "stream",
     "text": [
      "100%|██████████| 2400/2400 [00:44<00:00, 53.64it/s]\n",
      "  0%|          | 6/2400 [00:00<00:44, 53.36it/s]"
     ]
    },
    {
     "name": "stdout",
     "output_type": "stream",
     "text": [
      "Train Loss: 1914.348711496989 | Validation Loss: 1913.9754638671875\n",
      "Epoch: 44\n"
     ]
    },
    {
     "name": "stderr",
     "output_type": "stream",
     "text": [
      "100%|██████████| 2400/2400 [00:44<00:00, 53.69it/s]\n",
      "  0%|          | 6/2400 [00:00<00:45, 53.18it/s]"
     ]
    },
    {
     "name": "stdout",
     "output_type": "stream",
     "text": [
      "Train Loss: 1914.1382681050618 | Validation Loss: 1913.829345703125\n",
      "Epoch: 45\n"
     ]
    },
    {
     "name": "stderr",
     "output_type": "stream",
     "text": [
      "100%|██████████| 2400/2400 [00:44<00:00, 53.65it/s]\n",
      "  0%|          | 6/2400 [00:00<00:44, 53.50it/s]"
     ]
    },
    {
     "name": "stdout",
     "output_type": "stream",
     "text": [
      "Train Loss: 1913.9396582173665 | Validation Loss: 1913.6077880859375\n",
      "Epoch: 46\n"
     ]
    },
    {
     "name": "stderr",
     "output_type": "stream",
     "text": [
      "100%|██████████| 2400/2400 [00:44<00:00, 53.68it/s]\n",
      "  0%|          | 6/2400 [00:00<00:44, 53.53it/s]"
     ]
    },
    {
     "name": "stdout",
     "output_type": "stream",
     "text": [
      "Train Loss: 1913.744259025065 | Validation Loss: 1913.42431640625\n",
      "Epoch: 47\n"
     ]
    },
    {
     "name": "stderr",
     "output_type": "stream",
     "text": [
      "100%|██████████| 2400/2400 [00:44<00:00, 53.93it/s]\n",
      "  0%|          | 6/2400 [00:00<00:44, 53.22it/s]"
     ]
    },
    {
     "name": "stdout",
     "output_type": "stream",
     "text": [
      "Train Loss: 1913.5550993204752 | Validation Loss: 1913.28173828125\n",
      "Epoch: 48\n"
     ]
    },
    {
     "name": "stderr",
     "output_type": "stream",
     "text": [
      "100%|██████████| 2400/2400 [00:44<00:00, 53.90it/s]\n",
      "  0%|          | 6/2400 [00:00<00:44, 53.65it/s]"
     ]
    },
    {
     "name": "stdout",
     "output_type": "stream",
     "text": [
      "Train Loss: 1913.3714731018067 | Validation Loss: 1913.09619140625\n",
      "Epoch: 49\n"
     ]
    },
    {
     "name": "stderr",
     "output_type": "stream",
     "text": [
      "100%|██████████| 2400/2400 [00:45<00:00, 52.41it/s]\n",
      "  0%|          | 6/2400 [00:00<00:44, 53.37it/s]"
     ]
    },
    {
     "name": "stdout",
     "output_type": "stream",
     "text": [
      "Train Loss: 1913.1959421651204 | Validation Loss: 1912.9560546875\n",
      "Epoch: 50\n"
     ]
    },
    {
     "name": "stderr",
     "output_type": "stream",
     "text": [
      "100%|██████████| 2400/2400 [00:44<00:00, 54.03it/s]\n"
     ]
    },
    {
     "name": "stdout",
     "output_type": "stream",
     "text": [
      "Train Loss: 1913.031879079183 | Validation Loss: 1912.816650390625\n"
     ]
    }
   ],
   "source": [
    "input_size = 32*32*3\n",
    "\n",
    "net_svhn = VAE(input_size).to(device)\n",
    "train_set_svhn, val_set_svhn = torch.utils.data.random_split(svhn_train, [60000, 13257])\n",
    "train_loss_svhn, val_loss_svhn = train(\n",
    "    net_svhn,\n",
    "    prior,\n",
    "    train_set_svhn,\n",
    "    val_set_svhn,\n",
    "    3,\n",
    "    batch_size=25,\n",
    "    epochs=50,\n",
    "    img_dir='vae/svhn'\n",
    ")\n"
   ]
  },
  {
   "cell_type": "code",
   "execution_count": 363,
   "metadata": {},
   "outputs": [
    {
     "data": {
      "image/png": "[encoded data removed]",
      "text/plain": [
       "<Figure size 432x288 with 1 Axes>"
      ]
     },
     "metadata": {
      "needs_background": "light"
     },
     "output_type": "display_data"
    }
   ],
   "source": [
    "train_loss_epoch = np.array(train_loss_svhn).reshape(-1, int(60000/25)).mean(axis=1)\n",
    "val_loss_epoch = np.array(val_loss_svhn).reshape(-1, int(13257/25) + 1).mean(axis=1)\n",
    "\n",
    "plt.plot(train_loss_epoch)\n",
    "plt.plot(val_loss_epoch)\n",
    "plt.show()"
   ]
  },
  {
   "cell_type": "code",
   "execution_count": 420,
   "metadata": {},
   "outputs": [
    {
     "data": {
      "image/png": "[encoded data removed]",
      "text/plain": [
       "<Figure size 432x288 with 1 Axes>"
      ]
     },
     "metadata": {
      "needs_background": "light"
     },
     "output_type": "display_data"
    }
   ],
   "source": [
    "plot_manifold_sample(net_svhn, 3)"
   ]
  },
  {
   "cell_type": "markdown",
   "metadata": {},
   "source": [
    "# VAE with flow based prior"
   ]
  },
  {
   "cell_type": "code",
   "execution_count": 255,
   "metadata": {},
   "outputs": [],
   "source": [
    "\n",
    "# From https://github.com/jmtomczak/intro_dgm/blob/main/vaes/vae_priors_example.ipynb\n",
    "\n",
    "class FlowPrior(nn.Module):\n",
    "    def __init__(self, nets, nett, num_flows, D=2):\n",
    "        super(FlowPrior, self).__init__()\n",
    "\n",
    "        self.D = D\n",
    "\n",
    "        self.t = torch.nn.ModuleList([nett() for _ in range(num_flows)])\n",
    "        self.s = torch.nn.ModuleList([nets() for _ in range(num_flows)])\n",
    "        self.num_flows = num_flows\n",
    "\n",
    "    def coupling(self, x, index, forward=True):\n",
    "        (xa, xb) = torch.chunk(x, 2, 1)\n",
    "\n",
    "        s = self.s[index](xa)\n",
    "        t = self.t[index](xa)\n",
    "\n",
    "        if forward:\n",
    "            #yb = f^{-1}(x)\n",
    "            yb = (xb - t) * torch.exp(-s)\n",
    "        else:\n",
    "            #xb = f(y)\n",
    "            yb = torch.exp(s) * xb + t\n",
    "\n",
    "        return torch.cat((xa, yb), 1), s\n",
    "\n",
    "    def permute(self, x):\n",
    "        return x.flip(1)\n",
    "\n",
    "    def f(self, x):\n",
    "        log_det_J, z = x.new_zeros(x.shape[0]), x\n",
    "        for i in range(self.num_flows):\n",
    "            z, s = self.coupling(z, i, forward=True)\n",
    "            z = self.permute(z)\n",
    "            log_det_J = log_det_J - s.sum(dim=1)\n",
    "\n",
    "        return z, log_det_J\n",
    "\n",
    "    def f_inv(self, z):\n",
    "        x = z\n",
    "        for i in reversed(range(self.num_flows)):\n",
    "            x = self.permute(x)\n",
    "            x, _ = self.coupling(x, i, forward=False)\n",
    "\n",
    "        return x\n",
    "\n",
    "    def sample(self, batch_size):\n",
    "        z = torch.randn(batch_size, self.D)\n",
    "        x = self.f_inv(z)\n",
    "        return x.view(-1, self.D)\n",
    "\n",
    "    def log_prob(self, x):\n",
    "        z, log_det_J = self.f(x)\n",
    "        \n",
    "        PI = torch.from_numpy(np.asarray(np.pi))\n",
    "        log_standard_normal = -0.5 * torch.log(2. * PI) - 0.5 * z**2.\n",
    "        \n",
    "        log_p = (log_standard_normal + log_det_J.unsqueeze(1))\n",
    "        return log_p"
   ]
  },
  {
   "cell_type": "code",
   "execution_count": null,
   "metadata": {},
   "outputs": [
    {
     "name": "stderr",
     "output_type": "stream",
     "text": [
      "  0%|          | 4/2200 [00:00<01:01, 35.81it/s]"
     ]
    },
    {
     "name": "stdout",
     "output_type": "stream",
     "text": [
      "Epoch: 1\n"
     ]
    },
    {
     "name": "stderr",
     "output_type": "stream",
     "text": [
      "100%|██████████| 2200/2200 [00:36<00:00, 59.81it/s]\n",
      "  0%|          | 6/2200 [00:00<00:37, 58.64it/s]"
     ]
    },
    {
     "name": "stdout",
     "output_type": "stream",
     "text": [
      "Train Loss: -2674.150135343725 | Validation Loss: -2968.773193359375\n",
      "Epoch: 2\n"
     ]
    },
    {
     "name": "stderr",
     "output_type": "stream",
     "text": [
      "100%|██████████| 2200/2200 [00:36<00:00, 60.34it/s]\n",
      "  0%|          | 6/2200 [00:00<00:36, 59.45it/s]"
     ]
    },
    {
     "name": "stdout",
     "output_type": "stream",
     "text": [
      "Train Loss: -2849.874487283013 | Validation Loss: -3012.171142578125\n",
      "Epoch: 3\n"
     ]
    },
    {
     "name": "stderr",
     "output_type": "stream",
     "text": [
      "100%|██████████| 2200/2200 [00:36<00:00, 59.94it/s]\n",
      "  0%|          | 6/2200 [00:00<00:37, 58.97it/s]"
     ]
    },
    {
     "name": "stdout",
     "output_type": "stream",
     "text": [
      "Train Loss: -2930.8418763172267 | Validation Loss: -3045.768798828125\n",
      "Epoch: 4\n"
     ]
    },
    {
     "name": "stderr",
     "output_type": "stream",
     "text": [
      "100%|██████████| 2200/2200 [00:37<00:00, 58.55it/s]\n",
      "  0%|          | 6/2200 [00:00<00:37, 57.79it/s]"
     ]
    },
    {
     "name": "stdout",
     "output_type": "stream",
     "text": [
      "Train Loss: -2979.0500900437614 | Validation Loss: -3068.60693359375\n",
      "Epoch: 5\n"
     ]
    },
    {
     "name": "stderr",
     "output_type": "stream",
     "text": [
      "100%|██████████| 2200/2200 [00:37<00:00, 58.58it/s]\n",
      "  0%|          | 6/2200 [00:00<00:38, 57.26it/s]"
     ]
    },
    {
     "name": "stdout",
     "output_type": "stream",
     "text": [
      "Train Loss: -3018.579223823894 | Validation Loss: -3092.352294921875\n",
      "Epoch: 6\n"
     ]
    },
    {
     "name": "stderr",
     "output_type": "stream",
     "text": [
      "100%|██████████| 2200/2200 [00:37<00:00, 59.07it/s]\n",
      "  0%|          | 6/2200 [00:00<00:37, 58.17it/s]"
     ]
    },
    {
     "name": "stdout",
     "output_type": "stream",
     "text": [
      "Train Loss: -3047.16053303314 | Validation Loss: -3109.42333984375\n",
      "Epoch: 7\n"
     ]
    },
    {
     "name": "stderr",
     "output_type": "stream",
     "text": [
      " 61%|██████    | 1344/2200 [00:22<00:14, 59.56it/s]"
     ]
    }
   ],
   "source": [
    "num_flows = 3\n",
    "L = 100\n",
    "M = 300\n",
    "\n",
    "nets = lambda: nn.Sequential(nn.Linear(L // 2, M), nn.LeakyReLU(),\n",
    "                            nn.Linear(M, M), nn.LeakyReLU(),\n",
    "                            nn.Linear(M, L // 2), nn.Tanh())\n",
    "\n",
    "nett = lambda: nn.Sequential(nn.Linear(L // 2, M), nn.LeakyReLU(),\n",
    "                            nn.Linear(M, M), nn.LeakyReLU(),\n",
    "                            nn.Linear(M, L // 2))\n",
    "\n",
    "prior = FlowPrior(nets, nett, num_flows=num_flows, D=L)\n",
    "\n",
    "\n",
    "input_size = train_data[0][0].shape[0]\n",
    "batch_size = 10\n",
    "\n",
    "net = VAE(input_size).to(device)\n",
    "\n",
    "\n",
    "\n",
    "# mnist\n",
    "flow_mnist = {}\n",
    "\n",
    "\n",
    "input_size = 32*32\n",
    "flow_mnist['net'] = VAE(input_size).to(device)\n",
    "train_set, val_set = torch.utils.data.random_split(mnist_train, [55000, 5000])\n",
    "flow_mnist['train_loss'], flow_mnist['val_loss'] = train(\n",
    "    flow_mnist['net'], prior, train_set,\n",
    "    val_set, 1, batch_size=25, epochs=50, img_dir='flow/mnist')\n",
    "\n",
    "#svhn\n",
    "flow_svhn = {}\n",
    "\n",
    "input_size = 32*32*3\n",
    "flow_svhn['net'] = VAE(input_size).to(device)\n",
    "train_set_svhn, val_set_svhn = torch.utils.data.random_split(svhn_train, [60000, 13257])\n",
    "flow_svhn['train_loss'], flow_svhn['val_loss'] = train(\n",
    "    flow_svhn['net'], prior, train_set,\n",
    "    val_set, 3, batch_size=25, epochs=50, img_dir='flow/svhn')\n",
    "\n"
   ]
  },
  {
   "cell_type": "code",
   "execution_count": 260,
   "metadata": {},
   "outputs": [],
   "source": []
  },
  {
   "cell_type": "code",
   "execution_count": 267,
   "metadata": {},
   "outputs": [
    {
     "name": "stdout",
     "output_type": "stream",
     "text": [
      "torch.Size([1, 1024])\n"
     ]
    }
   ],
   "source": []
  }
 ],
 "metadata": {
  "kernelspec": {
   "display_name": "Python 3",
   "language": "python",
   "name": "python3"
  },
  "language_info": {
   "codemirror_mode": {
    "name": "ipython",
    "version": 3
   },
   "file_extension": ".py",
   "mimetype": "text/x-python",
   "name": "python",
   "nbconvert_exporter": "python",
   "pygments_lexer": "ipython3",
   "version": "3.8.5"
  }
 },
 "nbformat": 4,
 "nbformat_minor": 4
}
